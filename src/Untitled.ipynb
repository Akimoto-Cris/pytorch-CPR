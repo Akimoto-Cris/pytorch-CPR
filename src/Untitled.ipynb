{
 "cells": [
  {
   "cell_type": "code",
   "execution_count": 2,
   "metadata": {
    "collapsed": true
   },
   "outputs": [],
   "source": [
    "import torch\n",
    "import hiddenlayer as hl\n",
    "from model.vgg import VGG\n",
    "from model.paf_model import PAFModel\n",
    "from model.CPR import CPRmodel\n",
    "import torch.nn as nn\n",
    "import torchvision"
   ]
  },
  {
   "cell_type": "code",
   "execution_count": 3,
   "metadata": {
    "collapsed": true
   },
   "outputs": [],
   "source": [
    "def create_model(typ=\"cpr\", backend = 'vgg'):\n",
    "    if backend == 'vgg':\n",
    "        backend = VGG()\n",
    "        backend_feats = 128\n",
    "    else:\n",
    "        raise ValueError('Model ' + backend + ' not available.')\n",
    "    model = PAFModel(backend,backend_feats,n_joints=18,n_paf=32,n_stages=7) if typ == 'paf' else \\\n",
    "                CPRmodel(backend,backend_feats,n_joints=18,n_paf=32,n_stages=7, blocktype='hg')\n",
    "\n",
    "    return model"
   ]
  },
  {
   "cell_type": "code",
   "execution_count": 5,
   "metadata": {
    "collapsed": true
   },
   "outputs": [],
   "source": [
    "transforms = [\n",
    "        hl.transforms.Fold(\"Conv > BatchNorm > Relu\", \"ConvBnRelu\"),\n",
    "        hl.transforms.Fold(\"Conv > BatchNorm\", \"ConvBn\"),\n",
    "        hl.transforms.Fold(\"\"\"\n",
    "            (BatchNorm > Relu > ConvBnRelu > ConvBnRelu > ConvBn) > Add > Relu\n",
    "            \"\"\", \"BottleneckBlock\", \"Bottleneck Block\"),\n",
    "        hl.transforms.FoldDuplicates()\n",
    "    ]\n"
   ]
  },
  {
   "cell_type": "code",
   "execution_count": null,
   "metadata": {
    "scrolled": false
   },
   "outputs": [
    {
     "name": "stderr",
     "output_type": "stream",
     "text": [
      "Downloading: \"https://download.pytorch.org/models/vgg19-dcbb9e9d.pth\" to C:\\Users\\akimo/.torch\\models\\vgg19-dcbb9e9d.pth\n",
      "  0%|          | 1204224/574673361 [00:11<1:42:17, 93435.96it/s] "
     ]
    }
   ],
   "source": [
    "hl.build_graph(create_model(\"cpr\").cuda(), torch.zeros([1, 3, 224, 224]).cuda(), transforms=transforms)"
   ]
  },
  {
   "cell_type": "code",
   "execution_count": null,
   "metadata": {
    "collapsed": true
   },
   "outputs": [],
   "source": []
  }
 ],
 "metadata": {
  "kernelspec": {
   "display_name": "Python 3",
   "language": "python",
   "name": "python3"
  },
  "language_info": {
   "codemirror_mode": {
    "name": "ipython",
    "version": 3
   },
   "file_extension": ".py",
   "mimetype": "text/x-python",
   "name": "python",
   "nbconvert_exporter": "python",
   "pygments_lexer": "ipython3",
   "version": "3.6.5"
  }
 },
 "nbformat": 4,
 "nbformat_minor": 2
}
